{
 "cells": [
  {
   "cell_type": "code",
   "execution_count": 1,
   "metadata": {
    "scrolled": false
   },
   "outputs": [
    {
     "name": "stdout",
     "output_type": "stream",
     "text": [
      "Defaulting to user installation because normal site-packages is not writeable\n",
      "Requirement already satisfied: tensorflow in /home/srivz/.local/lib/python3.8/site-packages (2.3.1)\n",
      "Requirement already satisfied: keras in /home/srivz/.local/lib/python3.8/site-packages (2.4.3)\n",
      "Requirement already satisfied: sklearn in /home/srivz/.local/lib/python3.8/site-packages (0.0)\n",
      "Requirement already satisfied: matplotlib in /home/srivz/.local/lib/python3.8/site-packages (3.3.2)\n",
      "Requirement already satisfied: pandas in /home/srivz/.local/lib/python3.8/site-packages (1.1.4)\n",
      "Requirement already satisfied: pillow in /usr/lib/python3/dist-packages (7.0.0)\n",
      "Requirement already satisfied: keras-preprocessing<1.2,>=1.1.1 in /home/srivz/.local/lib/python3.8/site-packages (from tensorflow) (1.1.2)\n",
      "Requirement already satisfied: six>=1.12.0 in /usr/lib/python3/dist-packages (from tensorflow) (1.14.0)\n",
      "Requirement already satisfied: absl-py>=0.7.0 in /home/srivz/.local/lib/python3.8/site-packages (from tensorflow) (0.10.0)\n",
      "Requirement already satisfied: google-pasta>=0.1.8 in /home/srivz/.local/lib/python3.8/site-packages (from tensorflow) (0.2.0)\n",
      "Requirement already satisfied: protobuf>=3.9.2 in /home/srivz/.local/lib/python3.8/site-packages (from tensorflow) (3.13.0)\n",
      "Requirement already satisfied: grpcio>=1.8.6 in /home/srivz/.local/lib/python3.8/site-packages (from tensorflow) (1.32.0)\n",
      "Requirement already satisfied: numpy<1.19.0,>=1.16.0 in /home/srivz/.local/lib/python3.8/site-packages (from tensorflow) (1.18.5)\n",
      "Requirement already satisfied: astunparse==1.6.3 in /home/srivz/.local/lib/python3.8/site-packages (from tensorflow) (1.6.3)\n",
      "Requirement already satisfied: gast==0.3.3 in /home/srivz/.local/lib/python3.8/site-packages (from tensorflow) (0.3.3)\n",
      "Requirement already satisfied: opt-einsum>=2.3.2 in /home/srivz/.local/lib/python3.8/site-packages (from tensorflow) (3.3.0)\n",
      "Requirement already satisfied: wheel>=0.26 in /usr/lib/python3/dist-packages (from tensorflow) (0.34.2)\n",
      "Requirement already satisfied: tensorboard<3,>=2.3.0 in /home/srivz/.local/lib/python3.8/site-packages (from tensorflow) (2.3.0)\n",
      "Requirement already satisfied: h5py<2.11.0,>=2.10.0 in /home/srivz/.local/lib/python3.8/site-packages (from tensorflow) (2.10.0)\n",
      "Requirement already satisfied: tensorflow-estimator<2.4.0,>=2.3.0 in /home/srivz/.local/lib/python3.8/site-packages (from tensorflow) (2.3.0)\n",
      "Requirement already satisfied: wrapt>=1.11.1 in /home/srivz/.local/lib/python3.8/site-packages (from tensorflow) (1.12.1)\n",
      "Requirement already satisfied: termcolor>=1.1.0 in /home/srivz/.local/lib/python3.8/site-packages (from tensorflow) (1.1.0)\n",
      "Requirement already satisfied: pyyaml in /usr/lib/python3/dist-packages (from keras) (5.3.1)\n",
      "Requirement already satisfied: scipy>=0.14 in /home/srivz/.local/lib/python3.8/site-packages (from keras) (1.5.4)\n",
      "Requirement already satisfied: scikit-learn in /home/srivz/.local/lib/python3.8/site-packages (from sklearn) (0.23.2)\n",
      "Requirement already satisfied: kiwisolver>=1.0.1 in /home/srivz/.local/lib/python3.8/site-packages (from matplotlib) (1.3.1)\n",
      "Requirement already satisfied: pyparsing!=2.0.4,!=2.1.2,!=2.1.6,>=2.0.3 in /home/srivz/.local/lib/python3.8/site-packages (from matplotlib) (2.4.7)\n",
      "Requirement already satisfied: cycler>=0.10 in /home/srivz/.local/lib/python3.8/site-packages (from matplotlib) (0.10.0)\n",
      "Requirement already satisfied: python-dateutil>=2.1 in /usr/lib/python3/dist-packages (from matplotlib) (2.7.3)\n",
      "Requirement already satisfied: certifi>=2020.06.20 in /home/srivz/.local/lib/python3.8/site-packages (from matplotlib) (2020.11.8)\n",
      "Requirement already satisfied: pytz>=2017.2 in /usr/lib/python3/dist-packages (from pandas) (2019.3)\n",
      "Requirement already satisfied: setuptools in /usr/lib/python3/dist-packages (from protobuf>=3.9.2->tensorflow) (45.2.0)\n",
      "Requirement already satisfied: markdown>=2.6.8 in /home/srivz/.local/lib/python3.8/site-packages (from tensorboard<3,>=2.3.0->tensorflow) (3.2.2)\n",
      "Requirement already satisfied: tensorboard-plugin-wit>=1.6.0 in /home/srivz/.local/lib/python3.8/site-packages (from tensorboard<3,>=2.3.0->tensorflow) (1.7.0)\n",
      "Requirement already satisfied: werkzeug>=0.11.15 in /home/srivz/.local/lib/python3.8/site-packages (from tensorboard<3,>=2.3.0->tensorflow) (1.0.1)\n",
      "Requirement already satisfied: google-auth<2,>=1.6.3 in /home/srivz/.local/lib/python3.8/site-packages (from tensorboard<3,>=2.3.0->tensorflow) (1.22.0)\n",
      "Requirement already satisfied: requests<3,>=2.21.0 in /usr/lib/python3/dist-packages (from tensorboard<3,>=2.3.0->tensorflow) (2.22.0)\n",
      "Requirement already satisfied: google-auth-oauthlib<0.5,>=0.4.1 in /home/srivz/.local/lib/python3.8/site-packages (from tensorboard<3,>=2.3.0->tensorflow) (0.4.1)\n",
      "Requirement already satisfied: joblib>=0.11 in /home/srivz/.local/lib/python3.8/site-packages (from scikit-learn->sklearn) (0.17.0)\n",
      "Requirement already satisfied: threadpoolctl>=2.0.0 in /home/srivz/.local/lib/python3.8/site-packages (from scikit-learn->sklearn) (2.1.0)\n",
      "Requirement already satisfied: aiohttp<4.0.0dev,>=3.6.2; python_version >= \"3.6\" in /home/srivz/.local/lib/python3.8/site-packages (from google-auth<2,>=1.6.3->tensorboard<3,>=2.3.0->tensorflow) (3.6.2)\n",
      "Requirement already satisfied: cachetools<5.0,>=2.0.0 in /home/srivz/.local/lib/python3.8/site-packages (from google-auth<2,>=1.6.3->tensorboard<3,>=2.3.0->tensorflow) (4.1.1)\n",
      "Requirement already satisfied: pyasn1-modules>=0.2.1 in /home/srivz/.local/lib/python3.8/site-packages (from google-auth<2,>=1.6.3->tensorboard<3,>=2.3.0->tensorflow) (0.2.8)\n",
      "Requirement already satisfied: rsa<5,>=3.1.4; python_version >= \"3.5\" in /home/srivz/.local/lib/python3.8/site-packages (from google-auth<2,>=1.6.3->tensorboard<3,>=2.3.0->tensorflow) (4.6)\n",
      "Requirement already satisfied: requests-oauthlib>=0.7.0 in /home/srivz/.local/lib/python3.8/site-packages (from google-auth-oauthlib<0.5,>=0.4.1->tensorboard<3,>=2.3.0->tensorflow) (1.3.0)\n",
      "Requirement already satisfied: async-timeout<4.0,>=3.0 in /home/srivz/.local/lib/python3.8/site-packages (from aiohttp<4.0.0dev,>=3.6.2; python_version >= \"3.6\"->google-auth<2,>=1.6.3->tensorboard<3,>=2.3.0->tensorflow) (3.0.1)\n",
      "Requirement already satisfied: attrs>=17.3.0 in /usr/lib/python3/dist-packages (from aiohttp<4.0.0dev,>=3.6.2; python_version >= \"3.6\"->google-auth<2,>=1.6.3->tensorboard<3,>=2.3.0->tensorflow) (19.3.0)\n",
      "Requirement already satisfied: yarl<2.0,>=1.0 in /home/srivz/.local/lib/python3.8/site-packages (from aiohttp<4.0.0dev,>=3.6.2; python_version >= \"3.6\"->google-auth<2,>=1.6.3->tensorboard<3,>=2.3.0->tensorflow) (1.6.0)\n",
      "Requirement already satisfied: chardet<4.0,>=2.0 in /usr/lib/python3/dist-packages (from aiohttp<4.0.0dev,>=3.6.2; python_version >= \"3.6\"->google-auth<2,>=1.6.3->tensorboard<3,>=2.3.0->tensorflow) (3.0.4)\n",
      "Requirement already satisfied: multidict<5.0,>=4.5 in /home/srivz/.local/lib/python3.8/site-packages (from aiohttp<4.0.0dev,>=3.6.2; python_version >= \"3.6\"->google-auth<2,>=1.6.3->tensorboard<3,>=2.3.0->tensorflow) (4.7.6)\n",
      "Requirement already satisfied: pyasn1<0.5.0,>=0.4.6 in /home/srivz/.local/lib/python3.8/site-packages (from pyasn1-modules>=0.2.1->google-auth<2,>=1.6.3->tensorboard<3,>=2.3.0->tensorflow) (0.4.8)\n",
      "Requirement already satisfied: oauthlib>=3.0.0 in /usr/lib/python3/dist-packages (from requests-oauthlib>=0.7.0->google-auth-oauthlib<0.5,>=0.4.1->tensorboard<3,>=2.3.0->tensorflow) (3.1.0)\n",
      "Requirement already satisfied: idna>=2.0 in /usr/lib/python3/dist-packages (from yarl<2.0,>=1.0->aiohttp<4.0.0dev,>=3.6.2; python_version >= \"3.6\"->google-auth<2,>=1.6.3->tensorboard<3,>=2.3.0->tensorflow) (2.8)\n",
      "Note: you may need to restart the kernel to use updated packages.\n"
     ]
    }
   ],
   "source": [
    "pip install tensorflow keras sklearn matplotlib pandas pillow"
   ]
  },
  {
   "cell_type": "code",
   "execution_count": 2,
   "metadata": {},
   "outputs": [],
   "source": [
    "import numpy as np\n",
    "import pandas as pd\n",
    "import matplotlib.pyplot as plt\n",
    "import tensorflow as tf\n",
    "from PIL import Image\n",
    "import os\n",
    "from sklearn.model_selection import train_test_split\n",
    "from keras.utils import to_categorical\n",
    "from keras.models import Sequential\n",
    "from keras.layers import Conv2D, MaxPool2D, Dense, Flatten, Dropout,ZeroPadding2D\n",
    "\n",
    "data = []\n",
    "labels = []\n",
    "classes = 81\n",
    "cur_path = os.getcwd()\n",
    "\n",
    "for i in range(classes):\n",
    "    path = os.path.join(cur_path, 'train', str(i))\n",
    "    images = os.listdir(path)\n",
    "\n",
    "    for a in images:\n",
    "        try:\n",
    "            image = Image.open(path + '/' + a)\n",
    "            image = image.resize((30, 30))\n",
    "            image = np.array(image)\n",
    "            data.append(image)\n",
    "            labels.append(i)\n",
    "        except:\n",
    "            print(\"Error loading image\")\n",
    "data = np.array(data)\n",
    "labels = np.array(labels)\n"
   ]
  },
  {
   "cell_type": "code",
   "execution_count": 3,
   "metadata": {},
   "outputs": [
    {
     "name": "stdout",
     "output_type": "stream",
     "text": [
      "(52798, 30, 30, 3) (52798,)\n",
      "(42238, 30, 30, 3) (10560, 30, 30, 3) (42238,) (10560,)\n"
     ]
    }
   ],
   "source": [
    "data = np.array(data)\n",
    "labels = np.array(labels)\n",
    "\n",
    "print(data.shape, labels.shape)\n",
    "X_train, X_test, y_train, y_test = train_test_split(data, labels, test_size=0.2, random_state=80)\n",
    "print(X_train.shape, X_test.shape, y_train.shape, y_test.shape)\n",
    "y_train = to_categorical(y_train, 81)\n",
    "y_test = to_categorical(y_test, 81)"
   ]
  },
  {
   "cell_type": "code",
   "execution_count": 4,
   "metadata": {
    "scrolled": true
   },
   "outputs": [
    {
     "name": "stdout",
     "output_type": "stream",
     "text": [
      "Model: \"sequential\"\n",
      "_________________________________________________________________\n",
      "Layer (type)                 Output Shape              Param #   \n",
      "=================================================================\n",
      "conv2d (Conv2D)              (None, 28, 28, 16)        448       \n",
      "_________________________________________________________________\n",
      "max_pooling2d (MaxPooling2D) (None, 28, 28, 16)        0         \n",
      "_________________________________________________________________\n",
      "conv2d_1 (Conv2D)            (None, 26, 26, 32)        4640      \n",
      "_________________________________________________________________\n",
      "max_pooling2d_1 (MaxPooling2 (None, 13, 13, 32)        0         \n",
      "_________________________________________________________________\n",
      "conv2d_2 (Conv2D)            (None, 11, 11, 64)        18496     \n",
      "_________________________________________________________________\n",
      "max_pooling2d_2 (MaxPooling2 (None, 5, 5, 64)          0         \n",
      "_________________________________________________________________\n",
      "conv2d_3 (Conv2D)            (None, 3, 3, 128)         73856     \n",
      "_________________________________________________________________\n",
      "max_pooling2d_3 (MaxPooling2 (None, 1, 1, 128)         0         \n",
      "_________________________________________________________________\n",
      "flatten (Flatten)            (None, 128)               0         \n",
      "_________________________________________________________________\n",
      "dense (Dense)                (None, 1024)              132096    \n",
      "_________________________________________________________________\n",
      "dense_1 (Dense)              (None, 256)               262400    \n",
      "_________________________________________________________________\n",
      "dropout (Dropout)            (None, 256)               0         \n",
      "_________________________________________________________________\n",
      "dense_2 (Dense)              (None, 81)                20817     \n",
      "=================================================================\n",
      "Total params: 512,753\n",
      "Trainable params: 512,753\n",
      "Non-trainable params: 0\n",
      "_________________________________________________________________\n"
     ]
    }
   ],
   "source": [
    "model = Sequential()\n",
    "model.add(Conv2D(filters=16, kernel_size=(3,3), activation='relu', input_shape=(30,30,3)))\n",
    "model.add(MaxPool2D(pool_size=(1, 1)))\n",
    "\n",
    "model.add(Conv2D(filters=32, kernel_size=(3,3), activation='relu'))\n",
    "model.add(MaxPool2D(pool_size=(2, 2)))\n",
    "\n",
    "model.add(Conv2D(filters=64, kernel_size=(3,3), activation='relu'))\n",
    "model.add(MaxPool2D(pool_size=(2, 2)))\n",
    "\n",
    "model.add(Conv2D(filters=128, kernel_size=(3,3), activation='relu'))\n",
    "model.add(MaxPool2D(pool_size=(2, 2)))\n",
    "\n",
    "model.add(Flatten())\n",
    "model.add(Dense(1024, activation='relu'))\n",
    "\n",
    "model.add(Dense(256, activation='relu'))\n",
    "model.add(Dropout(rate=0.5))\n",
    "\n",
    "model.add(Dense(81, activation='softmax'))\n",
    "model.summary()\n",
    "\n",
    "model.compile(loss='categorical_crossentropy', optimizer='adam', metrics=['accuracy'])"
   ]
  },
  {
   "cell_type": "code",
   "execution_count": 5,
   "metadata": {},
   "outputs": [
    {
     "name": "stdout",
     "output_type": "stream",
     "text": [
      "Epoch 1/30\n",
      "1320/1320 [==============================] - 33s 25ms/step - loss: 1.3095 - accuracy: 0.6483 - val_loss: 0.1095 - val_accuracy: 0.9636\n",
      "Epoch 2/30\n",
      "1320/1320 [==============================] - 32s 25ms/step - loss: 0.2638 - accuracy: 0.9181 - val_loss: 0.0659 - val_accuracy: 0.9774\n",
      "Epoch 3/30\n",
      "1320/1320 [==============================] - 32s 24ms/step - loss: 0.1852 - accuracy: 0.9458 - val_loss: 0.1109 - val_accuracy: 0.9684\n",
      "Epoch 4/30\n",
      "1320/1320 [==============================] - 38s 29ms/step - loss: 0.1793 - accuracy: 0.9503 - val_loss: 0.0509 - val_accuracy: 0.9828\n",
      "Epoch 5/30\n",
      "1320/1320 [==============================] - 41s 31ms/step - loss: 0.1571 - accuracy: 0.9582 - val_loss: 0.0905 - val_accuracy: 0.9709\n",
      "Epoch 6/30\n",
      "1320/1320 [==============================] - 38s 29ms/step - loss: 0.1224 - accuracy: 0.9664 - val_loss: 0.0499 - val_accuracy: 0.9830\n",
      "Epoch 7/30\n",
      "1320/1320 [==============================] - 38s 29ms/step - loss: 0.1336 - accuracy: 0.9645 - val_loss: 0.0403 - val_accuracy: 0.9849\n",
      "Epoch 8/30\n",
      "1320/1320 [==============================] - 38s 29ms/step - loss: 0.1137 - accuracy: 0.9700 - val_loss: 0.0397 - val_accuracy: 0.9860\n",
      "Epoch 9/30\n",
      "1320/1320 [==============================] - 38s 29ms/step - loss: 0.1474 - accuracy: 0.9634 - val_loss: 0.0688 - val_accuracy: 0.9768\n",
      "Epoch 10/30\n",
      "1320/1320 [==============================] - 39s 29ms/step - loss: 0.1218 - accuracy: 0.9699 - val_loss: 0.1044 - val_accuracy: 0.9729\n",
      "Epoch 11/30\n",
      "1320/1320 [==============================] - 38s 29ms/step - loss: 0.1177 - accuracy: 0.9728 - val_loss: 0.0447 - val_accuracy: 0.9877\n",
      "Epoch 12/30\n",
      "1320/1320 [==============================] - 40s 30ms/step - loss: 0.1203 - accuracy: 0.9722 - val_loss: 0.0376 - val_accuracy: 0.9888\n",
      "Epoch 13/30\n",
      "1320/1320 [==============================] - 38s 29ms/step - loss: 0.1455 - accuracy: 0.9698 - val_loss: 0.0784 - val_accuracy: 0.9818\n",
      "Epoch 14/30\n",
      "1320/1320 [==============================] - 40s 30ms/step - loss: 0.1267 - accuracy: 0.9738 - val_loss: 0.1018 - val_accuracy: 0.9808\n",
      "Epoch 15/30\n",
      "1320/1320 [==============================] - 42s 32ms/step - loss: 0.1353 - accuracy: 0.9732 - val_loss: 0.0878 - val_accuracy: 0.9859\n",
      "Epoch 16/30\n",
      "1320/1320 [==============================] - 40s 30ms/step - loss: 0.1453 - accuracy: 0.9710 - val_loss: 0.0329 - val_accuracy: 0.9906\n",
      "Epoch 17/30\n",
      "1320/1320 [==============================] - 42s 32ms/step - loss: 0.1610 - accuracy: 0.9693 - val_loss: 0.1126 - val_accuracy: 0.9745\n",
      "Epoch 18/30\n",
      "1320/1320 [==============================] - 42s 32ms/step - loss: 0.1566 - accuracy: 0.9729 - val_loss: 0.1172 - val_accuracy: 0.9826\n",
      "Epoch 19/30\n",
      "1320/1320 [==============================] - 39s 30ms/step - loss: 0.1247 - accuracy: 0.9776 - val_loss: 0.2625 - val_accuracy: 0.9450\n",
      "Epoch 20/30\n",
      "1320/1320 [==============================] - 39s 29ms/step - loss: 0.1693 - accuracy: 0.9709 - val_loss: 0.0554 - val_accuracy: 0.9873\n",
      "Epoch 21/30\n",
      "1320/1320 [==============================] - 39s 29ms/step - loss: 0.1587 - accuracy: 0.9735 - val_loss: 0.1068 - val_accuracy: 0.9751\n",
      "Epoch 22/30\n",
      "1320/1320 [==============================] - 39s 29ms/step - loss: 0.1453 - accuracy: 0.9749 - val_loss: 0.1034 - val_accuracy: 0.9822\n",
      "Epoch 23/30\n",
      "1320/1320 [==============================] - 41s 31ms/step - loss: 0.1689 - accuracy: 0.9736 - val_loss: 0.8728 - val_accuracy: 0.9481\n",
      "Epoch 24/30\n",
      "1320/1320 [==============================] - 39s 30ms/step - loss: 0.1843 - accuracy: 0.9732 - val_loss: 0.0240 - val_accuracy: 0.9906\n",
      "Epoch 25/30\n",
      "1320/1320 [==============================] - 39s 29ms/step - loss: 0.1703 - accuracy: 0.9733 - val_loss: 0.4590 - val_accuracy: 0.9579\n",
      "Epoch 26/30\n",
      "1320/1320 [==============================] - 39s 29ms/step - loss: 0.1869 - accuracy: 0.9693 - val_loss: 0.1307 - val_accuracy: 0.9780\n",
      "Epoch 27/30\n",
      "1320/1320 [==============================] - 39s 29ms/step - loss: 0.2431 - accuracy: 0.9651 - val_loss: 0.3536 - val_accuracy: 0.9254\n",
      "Epoch 28/30\n",
      "1320/1320 [==============================] - 39s 29ms/step - loss: 0.1675 - accuracy: 0.9734 - val_loss: 0.0892 - val_accuracy: 0.9822\n",
      "Epoch 29/30\n",
      "1320/1320 [==============================] - 39s 30ms/step - loss: 0.1885 - accuracy: 0.9715 - val_loss: 0.0223 - val_accuracy: 0.9911\n",
      "Epoch 30/30\n",
      "1320/1320 [==============================] - 40s 30ms/step - loss: 0.1667 - accuracy: 0.9735 - val_loss: 0.0500 - val_accuracy: 0.9906\n",
      "WARNING:tensorflow:From /home/srivz/.local/lib/python3.8/site-packages/tensorflow/python/training/tracking/tracking.py:111: Model.state_updates (from tensorflow.python.keras.engine.training) is deprecated and will be removed in a future version.\n",
      "Instructions for updating:\n",
      "This property should not be used in TensorFlow 2.0, as updates are applied automatically.\n",
      "WARNING:tensorflow:From /home/srivz/.local/lib/python3.8/site-packages/tensorflow/python/training/tracking/tracking.py:111: Layer.updates (from tensorflow.python.keras.engine.base_layer) is deprecated and will be removed in a future version.\n",
      "Instructions for updating:\n",
      "This property should not be used in TensorFlow 2.0, as updates are applied automatically.\n",
      "INFO:tensorflow:Assets written to: filename.model/assets\n"
     ]
    }
   ],
   "source": [
    "epochs = 30\n",
    "history = model.fit(X_train, y_train, batch_size=32, epochs=epochs, validation_data=(X_test, y_test))\n",
    "model.save(\"filename.model\")"
   ]
  },
  {
   "cell_type": "code",
   "execution_count": 6,
   "metadata": {},
   "outputs": [
    {
     "data": {
      "image/png": "[encoded data removed]",
      "text/plain": [
       "<Figure size 432x288 with 1 Axes>"
      ]
     },
     "metadata": {
      "needs_background": "light"
     },
     "output_type": "display_data"
    },
    {
     "data": {
      "image/png": "[encoded data removed]",
      "text/plain": [
       "<Figure size 432x288 with 1 Axes>"
      ]
     },
     "metadata": {
      "needs_background": "light"
     },
     "output_type": "display_data"
    }
   ],
   "source": [
    "plt.figure(0)\n",
    "plt.plot(history.history['accuracy'], label='training accuracy')\n",
    "plt.plot(history.history['val_accuracy'], label='val accuracy')\n",
    "plt.title('Accuracy')\n",
    "plt.xlabel('epochs')\n",
    "plt.ylabel('accuracy')\n",
    "plt.legend()\n",
    "plt.show()\n",
    "\n",
    "plt.figure(1)\n",
    "plt.plot(history.history['loss'], label='training loss')\n",
    "plt.plot(history.history['val_loss'], label='val loss')\n",
    "plt.title('Loss')\n",
    "plt.xlabel('epochs')\n",
    "plt.ylabel('loss')\n",
    "plt.legend()\n",
    "plt.show()"
   ]
  },
  {
   "cell_type": "code",
   "execution_count": 8,
   "metadata": {},
   "outputs": [
    {
     "name": "stdout",
     "output_type": "stream",
     "text": [
      "330/330 [==============================] - 2s 6ms/step - loss: 0.0500 - accuracy: 0.9906\n",
      "test_loss,  test_accuracy :  [0.04998750984668732, 0.9906250238418579]\n"
     ]
    }
   ],
   "source": [
    "results = model.evaluate(X_test, y_test, batch_size=32)\n",
    "print(\"test_loss,  test_accuracy : \",results)"
   ]
  },
  {
   "cell_type": "code",
   "execution_count": null,
   "metadata": {},
   "outputs": [],
   "source": []
  }
 ],
 "metadata": {
  "kernelspec": {
   "display_name": "Python 3",
   "language": "python",
   "name": "python3"
  },
  "language_info": {
   "codemirror_mode": {
    "name": "ipython",
    "version": 3
   },
   "file_extension": ".py",
   "mimetype": "text/x-python",
   "name": "python",
   "nbconvert_exporter": "python",
   "pygments_lexer": "ipython3",
   "version": "3.8.5"
  }
 },
 "nbformat": 4,
 "nbformat_minor": 4
}
